{
  "cells": [
    {
      "cell_type": "markdown",
      "metadata": {
        "id": "view-in-github",
        "colab_type": "text"
      },
      "source": [
        "<a href=\"https://colab.research.google.com/github/jh941213/TextMining/blob/main/2_%ED%85%8D%EC%8A%A4%ED%8A%B8%EC%A0%84%EC%B2%98%EB%A6%AC(%EA%B0%90%EC%84%B1%EB%B6%84%EC%84%9D%EB%AA%A8%EB%8D%B8%EB%A7%81%ED%8F%AC%ED%95%A8).ipynb\" target=\"_parent\"><img src=\"https://colab.research.google.com/assets/colab-badge.svg\" alt=\"Open In Colab\"/></a>"
      ]
    },
    {
      "cell_type": "markdown",
      "source": [
        "# 텍스트 전처리\n",
        "- 전처리 기법 : 토큰화, 노이즈/불용어 제거, 통일화, 품사태깅, 벡터화\n",
        "- 위의 전처리 기법이 실제 분석에서 어떻게 이루어지는지 파악하고 익혀보자"
      ],
      "metadata": {
        "id": "3M7HH2eguzd0"
      }
    },
    {
      "cell_type": "markdown",
      "source": [
        "## konlpy 설치"
      ],
      "metadata": {
        "id": "CBbN3NDBuzWE"
      }
    },
    {
      "cell_type": "code",
      "execution_count": null,
      "metadata": {
        "colab": {
          "base_uri": "https://localhost:8080/"
        },
        "id": "Jkb8AGo1IhzE",
        "outputId": "4f0b723f-e3c1-4d93-b91e-057a49fc788c"
      },
      "outputs": [
        {
          "output_type": "stream",
          "name": "stdout",
          "text": [
            "Looking in indexes: https://pypi.org/simple, https://us-python.pkg.dev/colab-wheels/public/simple/\n",
            "Collecting konlpy\n",
            "  Downloading konlpy-0.6.0-py2.py3-none-any.whl (19.4 MB)\n",
            "\u001b[K     |████████████████████████████████| 19.4 MB 4.6 MB/s \n",
            "\u001b[?25hRequirement already satisfied: lxml>=4.1.0 in /usr/local/lib/python3.7/dist-packages (from konlpy) (4.9.1)\n",
            "Requirement already satisfied: numpy>=1.6 in /usr/local/lib/python3.7/dist-packages (from konlpy) (1.21.6)\n",
            "Collecting JPype1>=0.7.0\n",
            "  Downloading JPype1-1.4.1-cp37-cp37m-manylinux_2_12_x86_64.manylinux2010_x86_64.whl (465 kB)\n",
            "\u001b[K     |████████████████████████████████| 465 kB 52.5 MB/s \n",
            "\u001b[?25hRequirement already satisfied: typing-extensions in /usr/local/lib/python3.7/dist-packages (from JPype1>=0.7.0->konlpy) (4.1.1)\n",
            "Requirement already satisfied: packaging in /usr/local/lib/python3.7/dist-packages (from JPype1>=0.7.0->konlpy) (21.3)\n",
            "Requirement already satisfied: pyparsing!=3.0.5,>=2.0.2 in /usr/local/lib/python3.7/dist-packages (from packaging->JPype1>=0.7.0->konlpy) (3.0.9)\n",
            "Installing collected packages: JPype1, konlpy\n",
            "Successfully installed JPype1-1.4.1 konlpy-0.6.0\n"
          ]
        }
      ],
      "source": [
        "!pip install konlpy"
      ]
    },
    {
      "cell_type": "code",
      "source": [
        "# 이미 앞서 다뤄본 적이 있는 기본적인 라이브러리\n",
        "import numpy as np\n",
        "import pandas as pd\n",
        "\n",
        "import json\n",
        "import re\n",
        "\n",
        "from tqdm.notebook import tqdm"
      ],
      "metadata": {
        "id": "zESgu8HdveVb"
      },
      "execution_count": null,
      "outputs": []
    },
    {
      "cell_type": "code",
      "source": [
        "from konlpy.tag import Okt # komoran, hannanum, kkma, mecab"
      ],
      "metadata": {
        "id": "Kj8cUvjgwwen"
      },
      "execution_count": null,
      "outputs": []
    },
    {
      "cell_type": "markdown",
      "source": [
        "#### 형태소 분석기별 메서드 정리 \n",
        "출처 : https://konlpy-ko.readthedocs.io/ko/v0.4.3/\n",
        "\n",
        "---\n",
        "1) Hannanum : KAIST에서 개발   \n",
        "- analyze : 다양한 형태학적 후보를 반환\n",
        "- morphs : 형태소 토큰화 \n",
        "- nouns : 명사 토큰만 반환\n",
        "- pos : 형태소에 품사 태깅하여 반환\n",
        "---  \n",
        "2) Kkma : 서울대에서 개발\n",
        "- morphs : 형태소 토큰화 \n",
        "- nouns : 명사 토큰만 반환\n",
        "- pos : 형태소에 품사 태깅하여 반환 \n",
        "- sentences : 문장 토큰화\n",
        "---  \n",
        "3) Komoran : Shineware팀에서 개발\n",
        "- morphs : 형태소 토큰화 \n",
        "- nouns : 명사 토큰만 반환\n",
        "- pos : 형태소에 품사 태깅하여 반환\n",
        "---\n",
        "4) Mecab : 교토대에서 일본어용으로 개발된 분석기, 은전 프로젝트에 의해 한국어용 개발\n",
        "- morphs : 형태소 토큰화 \n",
        "- nouns : 명사 토큰만 반환\n",
        "- pos : 형태소에 품사 태깅하여 반환\n",
        "---\n",
        "5) Okt(Twitter) : Will Hohyon Ryu가 개발\n",
        "- morphs : 형태소 토큰화 \n",
        "- nouns : 명사 토큰만 반환\n",
        "- phrases : 다양한 형태학적 후보를 반환\n",
        "- pos : 형태소에 품사 태깅하여 반환\n"
      ],
      "metadata": {
        "id": "ISJjXt_MwwW7"
      }
    },
    {
      "cell_type": "code",
      "execution_count": null,
      "metadata": {
        "id": "r5XeJCsSFRDv"
      },
      "outputs": [],
      "source": [
        "import os\n",
        "from datetime import datetime"
      ]
    },
    {
      "cell_type": "markdown",
      "metadata": {
        "id": "Pob4fSi_2pk7"
      },
      "source": [
        "## Download Dataset(github에서 NSMC 데이터셋 다운로드)"
      ]
    },
    {
      "cell_type": "code",
      "execution_count": null,
      "metadata": {
        "id": "STTcwzMlFQdv"
      },
      "outputs": [],
      "source": [
        "train = pd.read_csv('https://raw.githubusercontent.com/e9t/nsmc/master/ratings_train.txt', header=0, delimiter='\\t' ,quoting=3)\n",
        "test = pd.read_csv('https://raw.githubusercontent.com/e9t/nsmc/master/ratings_test.txt', header=0, delimiter='\\t' ,quoting=3)"
      ]
    },
    {
      "cell_type": "code",
      "execution_count": null,
      "metadata": {
        "colab": {
          "base_uri": "https://localhost:8080/"
        },
        "id": "z9f6U7aSsmAX",
        "outputId": "d4c9f1c6-ee96-4ec5-b7ce-7d8366803396"
      },
      "outputs": [
        {
          "output_type": "execute_result",
          "data": {
            "text/plain": [
              "((150000, 3), (50000, 3))"
            ]
          },
          "metadata": {},
          "execution_count": 33
        }
      ],
      "source": [
        "train.shape, test.shape"
      ]
    },
    {
      "cell_type": "code",
      "execution_count": null,
      "metadata": {
        "colab": {
          "base_uri": "https://localhost:8080/",
          "height": 395
        },
        "id": "fCchRqrVspe7",
        "outputId": "1c52a52d-cd48-4c34-ad70-59772bd3b4d8"
      },
      "outputs": [
        {
          "output_type": "display_data",
          "data": {
            "text/plain": [
              "         id                                           document  label\n",
              "0   9976970                                아 더빙.. 진짜 짜증나네요 목소리      0\n",
              "1   3819312                  흠...포스터보고 초딩영화줄....오버연기조차 가볍지 않구나      1\n",
              "2  10265843                                  너무재밓었다그래서보는것을추천한다      0\n",
              "3   9045019                      교도소 이야기구먼 ..솔직히 재미는 없다..평점 조정      0\n",
              "4   6483659  사이몬페그의 익살스런 연기가 돋보였던 영화!스파이더맨에서 늙어보이기만 했던 커스틴 ...      1"
            ],
            "text/html": [
              "\n",
              "  <div id=\"df-258cba4f-260d-4258-abea-79d261906999\">\n",
              "    <div class=\"colab-df-container\">\n",
              "      <div>\n",
              "<style scoped>\n",
              "    .dataframe tbody tr th:only-of-type {\n",
              "        vertical-align: middle;\n",
              "    }\n",
              "\n",
              "    .dataframe tbody tr th {\n",
              "        vertical-align: top;\n",
              "    }\n",
              "\n",
              "    .dataframe thead th {\n",
              "        text-align: right;\n",
              "    }\n",
              "</style>\n",
              "<table border=\"1\" class=\"dataframe\">\n",
              "  <thead>\n",
              "    <tr style=\"text-align: right;\">\n",
              "      <th></th>\n",
              "      <th>id</th>\n",
              "      <th>document</th>\n",
              "      <th>label</th>\n",
              "    </tr>\n",
              "  </thead>\n",
              "  <tbody>\n",
              "    <tr>\n",
              "      <th>0</th>\n",
              "      <td>9976970</td>\n",
              "      <td>아 더빙.. 진짜 짜증나네요 목소리</td>\n",
              "      <td>0</td>\n",
              "    </tr>\n",
              "    <tr>\n",
              "      <th>1</th>\n",
              "      <td>3819312</td>\n",
              "      <td>흠...포스터보고 초딩영화줄....오버연기조차 가볍지 않구나</td>\n",
              "      <td>1</td>\n",
              "    </tr>\n",
              "    <tr>\n",
              "      <th>2</th>\n",
              "      <td>10265843</td>\n",
              "      <td>너무재밓었다그래서보는것을추천한다</td>\n",
              "      <td>0</td>\n",
              "    </tr>\n",
              "    <tr>\n",
              "      <th>3</th>\n",
              "      <td>9045019</td>\n",
              "      <td>교도소 이야기구먼 ..솔직히 재미는 없다..평점 조정</td>\n",
              "      <td>0</td>\n",
              "    </tr>\n",
              "    <tr>\n",
              "      <th>4</th>\n",
              "      <td>6483659</td>\n",
              "      <td>사이몬페그의 익살스런 연기가 돋보였던 영화!스파이더맨에서 늙어보이기만 했던 커스틴 ...</td>\n",
              "      <td>1</td>\n",
              "    </tr>\n",
              "  </tbody>\n",
              "</table>\n",
              "</div>\n",
              "      <button class=\"colab-df-convert\" onclick=\"convertToInteractive('df-258cba4f-260d-4258-abea-79d261906999')\"\n",
              "              title=\"Convert this dataframe to an interactive table.\"\n",
              "              style=\"display:none;\">\n",
              "        \n",
              "  <svg xmlns=\"http://www.w3.org/2000/svg\" height=\"24px\"viewBox=\"0 0 24 24\"\n",
              "       width=\"24px\">\n",
              "    <path d=\"M0 0h24v24H0V0z\" fill=\"none\"/>\n",
              "    <path d=\"M18.56 5.44l.94 2.06.94-2.06 2.06-.94-2.06-.94-.94-2.06-.94 2.06-2.06.94zm-11 1L8.5 8.5l.94-2.06 2.06-.94-2.06-.94L8.5 2.5l-.94 2.06-2.06.94zm10 10l.94 2.06.94-2.06 2.06-.94-2.06-.94-.94-2.06-.94 2.06-2.06.94z\"/><path d=\"M17.41 7.96l-1.37-1.37c-.4-.4-.92-.59-1.43-.59-.52 0-1.04.2-1.43.59L10.3 9.45l-7.72 7.72c-.78.78-.78 2.05 0 2.83L4 21.41c.39.39.9.59 1.41.59.51 0 1.02-.2 1.41-.59l7.78-7.78 2.81-2.81c.8-.78.8-2.07 0-2.86zM5.41 20L4 18.59l7.72-7.72 1.47 1.35L5.41 20z\"/>\n",
              "  </svg>\n",
              "      </button>\n",
              "      \n",
              "  <style>\n",
              "    .colab-df-container {\n",
              "      display:flex;\n",
              "      flex-wrap:wrap;\n",
              "      gap: 12px;\n",
              "    }\n",
              "\n",
              "    .colab-df-convert {\n",
              "      background-color: #E8F0FE;\n",
              "      border: none;\n",
              "      border-radius: 50%;\n",
              "      cursor: pointer;\n",
              "      display: none;\n",
              "      fill: #1967D2;\n",
              "      height: 32px;\n",
              "      padding: 0 0 0 0;\n",
              "      width: 32px;\n",
              "    }\n",
              "\n",
              "    .colab-df-convert:hover {\n",
              "      background-color: #E2EBFA;\n",
              "      box-shadow: 0px 1px 2px rgba(60, 64, 67, 0.3), 0px 1px 3px 1px rgba(60, 64, 67, 0.15);\n",
              "      fill: #174EA6;\n",
              "    }\n",
              "\n",
              "    [theme=dark] .colab-df-convert {\n",
              "      background-color: #3B4455;\n",
              "      fill: #D2E3FC;\n",
              "    }\n",
              "\n",
              "    [theme=dark] .colab-df-convert:hover {\n",
              "      background-color: #434B5C;\n",
              "      box-shadow: 0px 1px 3px 1px rgba(0, 0, 0, 0.15);\n",
              "      filter: drop-shadow(0px 1px 2px rgba(0, 0, 0, 0.3));\n",
              "      fill: #FFFFFF;\n",
              "    }\n",
              "  </style>\n",
              "\n",
              "      <script>\n",
              "        const buttonEl =\n",
              "          document.querySelector('#df-258cba4f-260d-4258-abea-79d261906999 button.colab-df-convert');\n",
              "        buttonEl.style.display =\n",
              "          google.colab.kernel.accessAllowed ? 'block' : 'none';\n",
              "\n",
              "        async function convertToInteractive(key) {\n",
              "          const element = document.querySelector('#df-258cba4f-260d-4258-abea-79d261906999');\n",
              "          const dataTable =\n",
              "            await google.colab.kernel.invokeFunction('convertToInteractive',\n",
              "                                                     [key], {});\n",
              "          if (!dataTable) return;\n",
              "\n",
              "          const docLinkHtml = 'Like what you see? Visit the ' +\n",
              "            '<a target=\"_blank\" href=https://colab.research.google.com/notebooks/data_table.ipynb>data table notebook</a>'\n",
              "            + ' to learn more about interactive tables.';\n",
              "          element.innerHTML = '';\n",
              "          dataTable['output_type'] = 'display_data';\n",
              "          await google.colab.output.renderOutput(dataTable, element);\n",
              "          const docLink = document.createElement('div');\n",
              "          docLink.innerHTML = docLinkHtml;\n",
              "          element.appendChild(docLink);\n",
              "        }\n",
              "      </script>\n",
              "    </div>\n",
              "  </div>\n",
              "  "
            ]
          },
          "metadata": {}
        },
        {
          "output_type": "display_data",
          "data": {
            "text/plain": [
              "        id                                           document  label\n",
              "0  6270596                                                굳 ㅋ      1\n",
              "1  9274899                               GDNTOPCLASSINTHECLUB      0\n",
              "2  8544678             뭐야 이 평점들은.... 나쁘진 않지만 10점 짜리는 더더욱 아니잖아      0\n",
              "3  6825595                   지루하지는 않은데 완전 막장임... 돈주고 보기에는....      0\n",
              "4  6723715  3D만 아니었어도 별 다섯 개 줬을텐데.. 왜 3D로 나와서 제 심기를 불편하게 하죠??      0"
            ],
            "text/html": [
              "\n",
              "  <div id=\"df-1747077e-3857-4321-8d6e-723b82e647bf\">\n",
              "    <div class=\"colab-df-container\">\n",
              "      <div>\n",
              "<style scoped>\n",
              "    .dataframe tbody tr th:only-of-type {\n",
              "        vertical-align: middle;\n",
              "    }\n",
              "\n",
              "    .dataframe tbody tr th {\n",
              "        vertical-align: top;\n",
              "    }\n",
              "\n",
              "    .dataframe thead th {\n",
              "        text-align: right;\n",
              "    }\n",
              "</style>\n",
              "<table border=\"1\" class=\"dataframe\">\n",
              "  <thead>\n",
              "    <tr style=\"text-align: right;\">\n",
              "      <th></th>\n",
              "      <th>id</th>\n",
              "      <th>document</th>\n",
              "      <th>label</th>\n",
              "    </tr>\n",
              "  </thead>\n",
              "  <tbody>\n",
              "    <tr>\n",
              "      <th>0</th>\n",
              "      <td>6270596</td>\n",
              "      <td>굳 ㅋ</td>\n",
              "      <td>1</td>\n",
              "    </tr>\n",
              "    <tr>\n",
              "      <th>1</th>\n",
              "      <td>9274899</td>\n",
              "      <td>GDNTOPCLASSINTHECLUB</td>\n",
              "      <td>0</td>\n",
              "    </tr>\n",
              "    <tr>\n",
              "      <th>2</th>\n",
              "      <td>8544678</td>\n",
              "      <td>뭐야 이 평점들은.... 나쁘진 않지만 10점 짜리는 더더욱 아니잖아</td>\n",
              "      <td>0</td>\n",
              "    </tr>\n",
              "    <tr>\n",
              "      <th>3</th>\n",
              "      <td>6825595</td>\n",
              "      <td>지루하지는 않은데 완전 막장임... 돈주고 보기에는....</td>\n",
              "      <td>0</td>\n",
              "    </tr>\n",
              "    <tr>\n",
              "      <th>4</th>\n",
              "      <td>6723715</td>\n",
              "      <td>3D만 아니었어도 별 다섯 개 줬을텐데.. 왜 3D로 나와서 제 심기를 불편하게 하죠??</td>\n",
              "      <td>0</td>\n",
              "    </tr>\n",
              "  </tbody>\n",
              "</table>\n",
              "</div>\n",
              "      <button class=\"colab-df-convert\" onclick=\"convertToInteractive('df-1747077e-3857-4321-8d6e-723b82e647bf')\"\n",
              "              title=\"Convert this dataframe to an interactive table.\"\n",
              "              style=\"display:none;\">\n",
              "        \n",
              "  <svg xmlns=\"http://www.w3.org/2000/svg\" height=\"24px\"viewBox=\"0 0 24 24\"\n",
              "       width=\"24px\">\n",
              "    <path d=\"M0 0h24v24H0V0z\" fill=\"none\"/>\n",
              "    <path d=\"M18.56 5.44l.94 2.06.94-2.06 2.06-.94-2.06-.94-.94-2.06-.94 2.06-2.06.94zm-11 1L8.5 8.5l.94-2.06 2.06-.94-2.06-.94L8.5 2.5l-.94 2.06-2.06.94zm10 10l.94 2.06.94-2.06 2.06-.94-2.06-.94-.94-2.06-.94 2.06-2.06.94z\"/><path d=\"M17.41 7.96l-1.37-1.37c-.4-.4-.92-.59-1.43-.59-.52 0-1.04.2-1.43.59L10.3 9.45l-7.72 7.72c-.78.78-.78 2.05 0 2.83L4 21.41c.39.39.9.59 1.41.59.51 0 1.02-.2 1.41-.59l7.78-7.78 2.81-2.81c.8-.78.8-2.07 0-2.86zM5.41 20L4 18.59l7.72-7.72 1.47 1.35L5.41 20z\"/>\n",
              "  </svg>\n",
              "      </button>\n",
              "      \n",
              "  <style>\n",
              "    .colab-df-container {\n",
              "      display:flex;\n",
              "      flex-wrap:wrap;\n",
              "      gap: 12px;\n",
              "    }\n",
              "\n",
              "    .colab-df-convert {\n",
              "      background-color: #E8F0FE;\n",
              "      border: none;\n",
              "      border-radius: 50%;\n",
              "      cursor: pointer;\n",
              "      display: none;\n",
              "      fill: #1967D2;\n",
              "      height: 32px;\n",
              "      padding: 0 0 0 0;\n",
              "      width: 32px;\n",
              "    }\n",
              "\n",
              "    .colab-df-convert:hover {\n",
              "      background-color: #E2EBFA;\n",
              "      box-shadow: 0px 1px 2px rgba(60, 64, 67, 0.3), 0px 1px 3px 1px rgba(60, 64, 67, 0.15);\n",
              "      fill: #174EA6;\n",
              "    }\n",
              "\n",
              "    [theme=dark] .colab-df-convert {\n",
              "      background-color: #3B4455;\n",
              "      fill: #D2E3FC;\n",
              "    }\n",
              "\n",
              "    [theme=dark] .colab-df-convert:hover {\n",
              "      background-color: #434B5C;\n",
              "      box-shadow: 0px 1px 3px 1px rgba(0, 0, 0, 0.15);\n",
              "      filter: drop-shadow(0px 1px 2px rgba(0, 0, 0, 0.3));\n",
              "      fill: #FFFFFF;\n",
              "    }\n",
              "  </style>\n",
              "\n",
              "      <script>\n",
              "        const buttonEl =\n",
              "          document.querySelector('#df-1747077e-3857-4321-8d6e-723b82e647bf button.colab-df-convert');\n",
              "        buttonEl.style.display =\n",
              "          google.colab.kernel.accessAllowed ? 'block' : 'none';\n",
              "\n",
              "        async function convertToInteractive(key) {\n",
              "          const element = document.querySelector('#df-1747077e-3857-4321-8d6e-723b82e647bf');\n",
              "          const dataTable =\n",
              "            await google.colab.kernel.invokeFunction('convertToInteractive',\n",
              "                                                     [key], {});\n",
              "          if (!dataTable) return;\n",
              "\n",
              "          const docLinkHtml = 'Like what you see? Visit the ' +\n",
              "            '<a target=\"_blank\" href=https://colab.research.google.com/notebooks/data_table.ipynb>data table notebook</a>'\n",
              "            + ' to learn more about interactive tables.';\n",
              "          element.innerHTML = '';\n",
              "          dataTable['output_type'] = 'display_data';\n",
              "          await google.colab.output.renderOutput(dataTable, element);\n",
              "          const docLink = document.createElement('div');\n",
              "          docLink.innerHTML = docLinkHtml;\n",
              "          element.appendChild(docLink);\n",
              "        }\n",
              "      </script>\n",
              "    </div>\n",
              "  </div>\n",
              "  "
            ]
          },
          "metadata": {}
        }
      ],
      "source": [
        "display(train.head())\n",
        "display(test.head())"
      ]
    },
    {
      "cell_type": "code",
      "execution_count": null,
      "metadata": {
        "colab": {
          "base_uri": "https://localhost:8080/"
        },
        "id": "b-29Wn_Ps_Ff",
        "outputId": "f9855670-c2f2-4be7-f411-b8b59ab6760b"
      },
      "outputs": [
        {
          "output_type": "execute_result",
          "data": {
            "text/plain": [
              "id          0\n",
              "document    5\n",
              "label       0\n",
              "dtype: int64"
            ]
          },
          "metadata": {},
          "execution_count": 35
        }
      ],
      "source": [
        "train.isnull().sum()"
      ]
    },
    {
      "cell_type": "code",
      "execution_count": null,
      "metadata": {
        "colab": {
          "base_uri": "https://localhost:8080/"
        },
        "id": "aSWielg_tKTd",
        "outputId": "330b4d7b-b036-42ac-ceac-33f056026e0e"
      },
      "outputs": [
        {
          "output_type": "execute_result",
          "data": {
            "text/plain": [
              "id          0\n",
              "document    3\n",
              "label       0\n",
              "dtype: int64"
            ]
          },
          "metadata": {},
          "execution_count": 36
        }
      ],
      "source": [
        "test.isnull().sum()"
      ]
    },
    {
      "cell_type": "code",
      "execution_count": null,
      "metadata": {
        "id": "SKtctzPBF6eI"
      },
      "outputs": [],
      "source": [
        "train.dropna(inplace=True)\n",
        "test.dropna(inplace=True)"
      ]
    },
    {
      "cell_type": "code",
      "execution_count": null,
      "metadata": {
        "colab": {
          "base_uri": "https://localhost:8080/"
        },
        "id": "7CssabwBFYFt",
        "outputId": "cf36dfa8-8e05-4085-b2da-2637defb26bd"
      },
      "outputs": [
        {
          "output_type": "execute_result",
          "data": {
            "text/plain": [
              "('아 더빙.. 진짜 짜증나네요 목소리', 0)"
            ]
          },
          "metadata": {},
          "execution_count": 38
        }
      ],
      "source": [
        "X_train = train.document   \n",
        "y_train = train.label \n",
        "\n",
        "X_test = test.document  \n",
        "y_test = test.label \n",
        "X_train[0], y_train[0]"
      ]
    },
    {
      "cell_type": "code",
      "execution_count": null,
      "metadata": {
        "colab": {
          "base_uri": "https://localhost:8080/"
        },
        "id": "1W1Ldm1GCPF1",
        "outputId": "f9d1ceb9-d3ec-47da-a8d3-4776f2dc2692"
      },
      "outputs": [
        {
          "output_type": "stream",
          "name": "stdout",
          "text": [
            "#Train set size: 149995\n",
            "#Test set size: 49997\n"
          ]
        }
      ],
      "source": [
        "print('#Train set size:', len(X_train))\n",
        "print('#Test set size:', len(X_test))"
      ]
    },
    {
      "cell_type": "markdown",
      "metadata": {
        "id": "JKQ2lJ-L27Eg"
      },
      "source": [
        "## 토큰화 + 노이즈/불용어제거 + 통일화 + 주요 품사 추출(품사태깅)"
      ]
    },
    {
      "cell_type": "markdown",
      "source": [
        "### 토큰화"
      ],
      "metadata": {
        "id": "cV-ZwoOiwauL"
      }
    },
    {
      "cell_type": "code",
      "source": [
        "review = X_train[0]"
      ],
      "metadata": {
        "id": "kV9gRwTVw7IF"
      },
      "execution_count": null,
      "outputs": []
    },
    {
      "cell_type": "code",
      "source": [
        "okt = Okt()"
      ],
      "metadata": {
        "id": "LFM-QLkqxIlA"
      },
      "execution_count": null,
      "outputs": []
    },
    {
      "cell_type": "code",
      "source": [
        "result = okt.morphs(review) \n",
        "result"
      ],
      "metadata": {
        "colab": {
          "base_uri": "https://localhost:8080/"
        },
        "id": "UZzqz7Jlw5iJ",
        "outputId": "6c122ca2-fb6f-4c94-b228-9b46a455c758"
      },
      "execution_count": null,
      "outputs": [
        {
          "output_type": "execute_result",
          "data": {
            "text/plain": [
              "['아', '더빙', '..', '진짜', '짜증나네요', '목소리']"
            ]
          },
          "metadata": {},
          "execution_count": 15
        }
      ]
    },
    {
      "cell_type": "markdown",
      "source": [
        "### 노이즈 제거"
      ],
      "metadata": {
        "id": "vHoFf-esxcE4"
      }
    },
    {
      "cell_type": "code",
      "source": [
        "# 한글제외한 나머지 문자 제거 --> 정규표현식\n",
        "sub_noise = lambda text : re.sub('[^가-힣]', '', text)\n",
        "result = [sub_noise(text) for text in result]\n",
        "result"
      ],
      "metadata": {
        "colab": {
          "base_uri": "https://localhost:8080/"
        },
        "id": "0Lw9nbVQwaZK",
        "outputId": "534bb178-7ffb-45a8-b672-1f4d4d471afc"
      },
      "execution_count": null,
      "outputs": [
        {
          "output_type": "execute_result",
          "data": {
            "text/plain": [
              "['아', '더빙', '', '진짜', '짜증나네요', '목소리']"
            ]
          },
          "metadata": {},
          "execution_count": 16
        }
      ]
    },
    {
      "cell_type": "code",
      "source": [
        "# 1글자짜리 제거 \n",
        "result = [text for text in result if len(text) > 1]\n",
        "result"
      ],
      "metadata": {
        "colab": {
          "base_uri": "https://localhost:8080/"
        },
        "id": "eRyBU8JGy_Du",
        "outputId": "20a7954e-cb78-4114-d924-54582c8498ca"
      },
      "execution_count": null,
      "outputs": [
        {
          "output_type": "execute_result",
          "data": {
            "text/plain": [
              "['더빙', '진짜', '짜증나네요', '목소리']"
            ]
          },
          "metadata": {},
          "execution_count": 17
        }
      ]
    },
    {
      "cell_type": "markdown",
      "source": [
        "### 불용어 제거"
      ],
      "metadata": {
        "id": "TxAlCzn5zBoB"
      }
    },
    {
      "cell_type": "code",
      "source": [
        "# 불용어 사전 - 리스트로 사용\n",
        "stopwords = ['목소리']\n",
        "\n",
        "with open('nsmc_stopwords.txt', 'wt') as f:\n",
        "    f.write('\\n'.join(stopwords))  # 리스트 -> 문자열\n",
        "\n",
        "# f = open('nsmc_stopwords.txt', 'wt')\n",
        "# f.write(stopwords_str)\n",
        "# f.close()"
      ],
      "metadata": {
        "id": "2cBeuLkkqMG8"
      },
      "execution_count": null,
      "outputs": []
    },
    {
      "cell_type": "code",
      "execution_count": null,
      "metadata": {
        "colab": {
          "base_uri": "https://localhost:8080/"
        },
        "id": "GRxJs8iNO-_N",
        "outputId": "d6640709-605f-40f2-a3a4-5f81f529050c"
      },
      "outputs": [
        {
          "output_type": "execute_result",
          "data": {
            "text/plain": [
              "['목소리']"
            ]
          },
          "metadata": {},
          "execution_count": 19
        }
      ],
      "source": [
        "f = open('nsmc_stopwords.txt')\n",
        "stopwords = f.read().split()\n",
        "stopwords"
      ]
    },
    {
      "cell_type": "code",
      "source": [
        "result = [token for token in result if not token in stopwords]\n",
        "result"
      ],
      "metadata": {
        "colab": {
          "base_uri": "https://localhost:8080/"
        },
        "id": "koax-L2I3f-W",
        "outputId": "569cdd88-c4c3-4bb7-e277-13d13dbe44c8"
      },
      "execution_count": null,
      "outputs": [
        {
          "output_type": "execute_result",
          "data": {
            "text/plain": [
              "['더빙', '진짜', '짜증나네요']"
            ]
          },
          "metadata": {},
          "execution_count": 20
        }
      ]
    },
    {
      "cell_type": "markdown",
      "source": [
        "### 품사태깅"
      ],
      "metadata": {
        "id": "KBThQ8agzWmH"
      }
    },
    {
      "cell_type": "code",
      "source": [
        "# 품사 태깅의 이해\n",
        "review = X_train[0]\n",
        "review"
      ],
      "metadata": {
        "colab": {
          "base_uri": "https://localhost:8080/",
          "height": 35
        },
        "id": "6Cl5mP2rxDuu",
        "outputId": "52c2c2cf-3e90-4155-e06b-c95703abbc3a"
      },
      "execution_count": null,
      "outputs": [
        {
          "output_type": "execute_result",
          "data": {
            "text/plain": [
              "'아 더빙.. 진짜 짜증나네요 목소리'"
            ],
            "application/vnd.google.colaboratory.intrinsic+json": {
              "type": "string"
            }
          },
          "metadata": {},
          "execution_count": 21
        }
      ]
    },
    {
      "cell_type": "code",
      "source": [
        "review_text = re.sub(\"[^가-힣\\\\s]\", \"\", review)\n",
        "review_text"
      ],
      "metadata": {
        "colab": {
          "base_uri": "https://localhost:8080/",
          "height": 35
        },
        "id": "Xler52i4xdiK",
        "outputId": "75bd0538-8f5b-4e0b-8645-0aeab0096c1e"
      },
      "execution_count": null,
      "outputs": [
        {
          "output_type": "execute_result",
          "data": {
            "text/plain": [
              "'아 더빙 진짜 짜증나네요 목소리'"
            ],
            "application/vnd.google.colaboratory.intrinsic+json": {
              "type": "string"
            }
          },
          "metadata": {},
          "execution_count": 22
        }
      ]
    },
    {
      "cell_type": "code",
      "source": [
        "okt = Okt()\n",
        "word_review = okt.pos(review_text, stem=True)\n",
        "word_review"
      ],
      "metadata": {
        "colab": {
          "base_uri": "https://localhost:8080/",
          "height": 344
        },
        "id": "DMeJxx77xI5L",
        "outputId": "b848d0e7-734c-48c9-bc4b-805c34635c80"
      },
      "execution_count": null,
      "outputs": [
        {
          "output_type": "error",
          "ename": "KeyboardInterrupt",
          "evalue": "ignored",
          "traceback": [
            "\u001b[0;31m---------------------------------------------------------------------------\u001b[0m",
            "\u001b[0;31mKeyboardInterrupt\u001b[0m                         Traceback (most recent call last)",
            "\u001b[0;32m<ipython-input-40-2506243ead60>\u001b[0m in \u001b[0;36m<module>\u001b[0;34m\u001b[0m\n\u001b[1;32m      1\u001b[0m \u001b[0mokt\u001b[0m \u001b[0;34m=\u001b[0m \u001b[0mOkt\u001b[0m\u001b[0;34m(\u001b[0m\u001b[0;34m)\u001b[0m\u001b[0;34m\u001b[0m\u001b[0;34m\u001b[0m\u001b[0m\n\u001b[0;32m----> 2\u001b[0;31m \u001b[0mword_review\u001b[0m \u001b[0;34m=\u001b[0m \u001b[0mokt\u001b[0m\u001b[0;34m.\u001b[0m\u001b[0mpos\u001b[0m\u001b[0;34m(\u001b[0m\u001b[0mreview_text\u001b[0m\u001b[0;34m,\u001b[0m \u001b[0mstem\u001b[0m\u001b[0;34m=\u001b[0m\u001b[0;32mTrue\u001b[0m\u001b[0;34m)\u001b[0m\u001b[0;34m\u001b[0m\u001b[0;34m\u001b[0m\u001b[0m\n\u001b[0m\u001b[1;32m      3\u001b[0m \u001b[0mword_review\u001b[0m\u001b[0;34m\u001b[0m\u001b[0;34m\u001b[0m\u001b[0m\n",
            "\u001b[0;32m/usr/local/lib/python3.7/dist-packages/konlpy/tag/_okt.py\u001b[0m in \u001b[0;36mpos\u001b[0;34m(self, phrase, norm, stem, join)\u001b[0m\n\u001b[1;32m     72\u001b[0m                     \u001b[0mphrase\u001b[0m\u001b[0;34m,\u001b[0m\u001b[0;34m\u001b[0m\u001b[0;34m\u001b[0m\u001b[0m\n\u001b[1;32m     73\u001b[0m                     \u001b[0mjpype\u001b[0m\u001b[0;34m.\u001b[0m\u001b[0mjava\u001b[0m\u001b[0;34m.\u001b[0m\u001b[0mlang\u001b[0m\u001b[0;34m.\u001b[0m\u001b[0mBoolean\u001b[0m\u001b[0;34m(\u001b[0m\u001b[0mnorm\u001b[0m\u001b[0;34m)\u001b[0m\u001b[0;34m,\u001b[0m\u001b[0;34m\u001b[0m\u001b[0;34m\u001b[0m\u001b[0m\n\u001b[0;32m---> 74\u001b[0;31m                     jpype.java.lang.Boolean(stem)).toArray()\n\u001b[0m\u001b[1;32m     75\u001b[0m         \u001b[0;32mif\u001b[0m \u001b[0mjoin\u001b[0m\u001b[0;34m:\u001b[0m\u001b[0;34m\u001b[0m\u001b[0;34m\u001b[0m\u001b[0m\n\u001b[1;32m     76\u001b[0m             \u001b[0;32mreturn\u001b[0m \u001b[0;34m[\u001b[0m\u001b[0mt\u001b[0m \u001b[0;32mfor\u001b[0m \u001b[0mt\u001b[0m \u001b[0;32min\u001b[0m \u001b[0mtokens\u001b[0m\u001b[0;34m]\u001b[0m\u001b[0;34m\u001b[0m\u001b[0;34m\u001b[0m\u001b[0m\n",
            "\u001b[0;31mKeyboardInterrupt\u001b[0m: "
          ]
        }
      ]
    },
    {
      "cell_type": "code",
      "source": [
        "for token, pos in word_review:\n",
        "    print(token, pos)"
      ],
      "metadata": {
        "colab": {
          "base_uri": "https://localhost:8080/"
        },
        "id": "DcvhdvI4yIKz",
        "outputId": "72c4832e-1421-4e65-e767-81bc43d4cd02"
      },
      "execution_count": null,
      "outputs": [
        {
          "output_type": "stream",
          "name": "stdout",
          "text": [
            "아 Exclamation\n",
            "더빙 Noun\n",
            "진짜 Noun\n",
            "짜증나다 Adjective\n",
            "목소리 Noun\n"
          ]
        }
      ]
    },
    {
      "cell_type": "markdown",
      "source": [
        "### 종합적인 구현"
      ],
      "metadata": {
        "id": "WbIpJF-GzhND"
      }
    },
    {
      "cell_type": "code",
      "source": [
        "f = open('nsmc_stopwords.txt') # 경로 + 파일명\n",
        "stop_words = f.read().split()\n",
        "stop_words"
      ],
      "metadata": {
        "colab": {
          "base_uri": "https://localhost:8080/"
        },
        "id": "xR8KwCYtR0e4",
        "outputId": "eaba1220-fb6e-4b69-ad9c-5ff6b002f152"
      },
      "execution_count": null,
      "outputs": [
        {
          "output_type": "execute_result",
          "data": {
            "text/plain": [
              "['교도소', '스파이더맨', '영화', '3D', '완전', '솔직히', '평점', '주다', '하다']"
            ]
          },
          "metadata": {},
          "execution_count": 41
        }
      ]
    },
    {
      "cell_type": "code",
      "source": [
        "# 1. 한글 및 공백을 제외한 문자 모두 제거.\n",
        "import re\n",
        "review_text = re.sub(\"[^가-힣\\s]\", \"\", '아.. 더빙 진짜 짜증나네')\n",
        "review_text"
      ],
      "metadata": {
        "colab": {
          "base_uri": "https://localhost:8080/",
          "height": 36
        },
        "id": "lxFgmNlja23e",
        "outputId": "ffa4739a-22f8-4260-f69f-44cf6ba47b70"
      },
      "execution_count": null,
      "outputs": [
        {
          "output_type": "execute_result",
          "data": {
            "text/plain": [
              "'아 더빙 진짜 짜증나네'"
            ],
            "application/vnd.google.colaboratory.intrinsic+json": {
              "type": "string"
            }
          },
          "metadata": {},
          "execution_count": 42
        }
      ]
    },
    {
      "cell_type": "code",
      "source": [
        "okt = Okt()\n",
        "word_review = okt.pos(review_text, stem=True)\n",
        "word_review"
      ],
      "metadata": {
        "colab": {
          "base_uri": "https://localhost:8080/"
        },
        "id": "IWsYLJC8bkCa",
        "outputId": "5249aacf-01e2-4d41-d66f-7b326ac8e956"
      },
      "execution_count": null,
      "outputs": [
        {
          "output_type": "execute_result",
          "data": {
            "text/plain": [
              "[('아', 'Exclamation'), ('더빙', 'Noun'), ('진짜', 'Noun'), ('짜증나다', 'Adjective')]"
            ]
          },
          "metadata": {},
          "execution_count": 44
        }
      ]
    },
    {
      "cell_type": "code",
      "source": [
        "# pos 결과 이해하기\n",
        "## 1. word_review에서 '더빙'만 출력해보자.\n",
        "word_review[1][0]\n",
        "\n",
        "## 2. 품사들만 출력해보자.\n",
        "for word in word_review:\n",
        "    print(word[1])\n",
        "\n",
        "## 3. 토큰은 tokens에, 품사는 pos에 리스트로 각각 담아보자.\n",
        "tokens, pos = [], []\n",
        "\n",
        "for word in word_review:\n",
        "    tokens.append(word[0])\n",
        "    pos.append(word[1])\n",
        "tokens, pos"
      ],
      "metadata": {
        "colab": {
          "base_uri": "https://localhost:8080/"
        },
        "id": "ZXAOsON_cY3j",
        "outputId": "d4789229-03ee-486e-d4d2-9113260a2fc6"
      },
      "execution_count": null,
      "outputs": [
        {
          "output_type": "stream",
          "name": "stdout",
          "text": [
            "Exclamation\n",
            "Noun\n",
            "Noun\n",
            "Adjective\n"
          ]
        },
        {
          "output_type": "execute_result",
          "data": {
            "text/plain": [
              "(['아', '더빙', '진짜', '짜증나다'], ['Exclamation', 'Noun', 'Noun', 'Adjective'])"
            ]
          },
          "metadata": {},
          "execution_count": 52
        }
      ]
    },
    {
      "cell_type": "code",
      "execution_count": null,
      "metadata": {
        "id": "sDSGUJtEijtD"
      },
      "outputs": [],
      "source": [
        "def preprocessing(review): \n",
        "    okt = Okt()\n",
        "    \n",
        "    f = open('nsmc_stopwords.txt')\n",
        "    stop_words = f.read().split()\n",
        "    \n",
        "    # 1. 한글 및 공백을 제외한 문자 모두 제거.\n",
        "    review_text = re.sub(\"[^가-힣\\\\s]\", \"\", review)\n",
        "    \n",
        "    # 2. okt 객체를 활용해서 형태소 토큰화 + 품사 태깅\n",
        "    word_review = okt.pos(review_text, stem=True)\n",
        "    \n",
        "    # 노이즈 & 불용어 제거\n",
        "    word_review = [(token, pos) for token, pos in word_review if not token in stop_words and len(token) > 1]\n",
        "    \n",
        "    # 명사, 동사, 형용사 추출\n",
        "    word_review = [token for token, pos in word_review if pos in ['Noun', 'Verb', 'Adjective']]\n",
        "\n",
        "    return word_review"
      ]
    },
    {
      "cell_type": "code",
      "execution_count": null,
      "metadata": {
        "colab": {
          "base_uri": "https://localhost:8080/"
        },
        "id": "wgk-Q70_NWH_",
        "outputId": "84be3f52-74fe-4398-b0ff-0960dc5824d2"
      },
      "outputs": [
        {
          "output_type": "stream",
          "name": "stdout",
          "text": [
            "['더빙', '진짜', '짜증나다']\n",
            "['포스터', '보고', '초딩', '영화', '오버', '연기', '가볍다', '않다']\n",
            "['무재', '밓었', '다그', '래서', '보다', '추천']\n",
            "['교도소', '이야기', '구먼', '솔직하다', '재미', '없다', '평점', '조정']\n",
            "['몬페', '익살스럽다', '연기', '돋보이다', '영화', '스파이더맨', '늙다', '보이다', '하다', '커스틴', '던스트', '이쁘다', '보이다']\n",
            "['걸음', '떼다', '초등학교', '학년', '생인', '살다', '영화', '반개', '아깝다']\n",
            "['원작', '긴장감', '제대로', '살리다', '하다']\n",
            "['반개', '아깝다', '나오다', '이응경', '길용우', '생활', '정말', '해도', '그것', '낫다', '납치', '감금', '반복', '반복', '드라마', '가족', '없다', '연기', '하다', '사람']\n",
            "['액션', '없다', '재미', '있다', '안되다', '영화']\n",
            "['왜케', '평점', '낮다', '헐리우드', '화려하다', '길들이다', '있다']\n",
            "['인피니트', '진짜']\n",
            "['볼때', '눈물나다', '죽다', '년대', '향수', '허진호', '감성', '절제', '멜로', '달인']\n",
            "['울면', '횡단보도', '건너다', '뛰다', '치다', '이범수', '연기', '드럽다', '하다']\n",
            "['담백하다', '깔끔하다', '좋다', '로만', '보다', '보다', '자꾸', '잊어버리다', '사람', '이다']\n",
            "['취향', '존중', '다지', '진짜', '내생', '극장', '보다', '영화', '가장', '노잼', '감동', '스토리', '어거지', '감동', '어거지']\n",
            "['매번', '긴장', '되다', '재밋음']\n",
            "['차다', '사람', '웃기다', '바스코', '이기', '락스', '끄다', '바비', '이기', '아이돌', '깔다', '다그', '끄다', '안달', '보이다']\n",
            "['굿바이', '레닌', '표절', '이해', '하다', '갈수록', '재미', '없어지다']\n",
            "['이건', '정말', '깨알', '캐스팅', '질퍽', '않다', '산뜻하다', '용구성', '자다', '버무러진', '깨알', '일드']\n",
            "['약탈', '변명', '이르다', '착하다', '절대', '아니다']\n",
            "['나름', '심오하다', '있다', '그냥', '학생', '선생', '놀다', '영화', '절대', '아니다']\n",
            "['보다', '웃다', '않다', '불가능하다']\n",
            "['재미없다', '지루하다', '같다', '음식', '영화', '바베트', '만찬', '넘다', '차이', '남바', '베트', '만찬', '이야기', '있다', '음식', '보다', '재미', '있다', '이건', '없다', '음식', '별로', '나오다', '핀란드', '풍경', '할랫', '늘다', '그것', '별로', '나오다']\n",
            "['절대', '평범하다', '영화', '아니다', '수작', '는걸', '말씀드리다']\n",
            "['주제', '좋다', '중반', '지루하다']\n",
            "['짤랐을꺼', '납득', '하다', '없다', '그렇다', '그렇다', '끄다']\n",
            "['고추', '털다', '버리다', '하다']\n",
            "['카밀라', '발연기']\n",
            "['재밋는뎅']\n",
            "['센스', '있다', '연출', '탁월하다', '캐스팅', '년대', '향수']\n",
            "['엄포스', '위력', '다시', '한번', '깨닫다', '해주다', '적남', '검사', '연기', '정말', '좋다', '완전', '명품', '드라마']\n",
            "['쓰레기', '진부하다', '도안', '돼다', '아시', '아깝다']\n",
            "['재밌다', '낮다']\n",
            "['기대하다', '죄인', '이다', '죄인', '이다']\n",
            "['드라마', '인생', '최고']\n",
            "['패션', '대한', '열정', '안나', '투어']\n",
            "['키이라', '나이틀리', '연기', '하다', '하다', '대체', '정신장애', '이다', '틱장애', '이다']\n",
            "['작가', '정신', '나가다', '유령', '재미있다']\n",
            "['포스터', '있다', '보이다', '관객']\n",
            "['영화', '평가', '받다', '모르다']\n",
            "['단순하다', '은은하다', '매력', '영화']\n",
            "['알바생', '내용', '없다', '무섭다', '없다', '웃기다', '하나', '없다', '완전', '싱겁다', '영화', '시간', '넘다', '아깝다', '완전', '낚임']\n",
            "['오다', '두다', '서리', '굶주리다']\n",
            "['정말', '들다', '보다', '보다', '방법', '없다']\n",
            "['윤제문', '멋지다', '배우', '발견', '하다', '돼다', '소소하다', '잔잔하다', '미소', '머금', '하다', '음악', '조금', '아쉽다', '주다', '싶다', '평점', '올리다', '싶다', '주다']\n",
            "['평점', '속지', '말다', '시간', '낭비', '낭비']\n",
            "['리얼리티', '뛰어나다', '크다', '공감', '간다', '이민기', '캐릭터', '정신의학', '분노조절', '장애', '초기', '증상', '이다', '툭하면', '사람', '물건', '파손', '조금', '이다', '초반', '신선하다', '가면', '갈수록', '이민기', '정신', '상태', '공감', '불가']\n",
            "['마이너스', '없다', '뮤비', '보고', '영화', '수준', '하다', '북한', '이렇다', '만들다', '대다']\n",
            "['우리', '영화', '사랑', '하다']\n",
            "['리스', '타르', '가르다', '엔나', '용의', '주인', '되다', '싶다', '근친상간', '하다', '다니다', '소설', '제일', '멋지다', '니스', '이다', '드라마', '드래곤', '용이', '제일', '멋지다', '웃음', '감독', '토르', '다크', '월드', '잡수다', '기본', '선방', '하다']\n",
            "['영화', '사람', '영혼', '어루만지다', '수도', '있다', '거치다', '상사', '잠시', '잊다', '동화', '같다', '영화', '행복하다']\n",
            "['세르게이', '작다', '고추', '맵다', '보여주다', '포퐁', '저그', '진호', '간다']\n",
            "['가슴', '시리', '보다', '드라마', '있다', '감동', '자체']\n",
            "['난또', '꼬마', '애가', '무슨', '원한', '깊다', '하다', '그냥', '혼자', '나대다']\n",
            "['재미있다']\n",
            "['좋다']\n",
            "['최고']\n",
            "['충격', '적다', '기분', '완전하다', '꺼지다', '하다', '느낌', '하나', '없다', '무겁다', '지독하다', '차갑다', '무자비하다', '일본인', '상상력', '정말', '대단하다', '같다', '생각', '들다']\n",
            "['심심하다', '영화']\n",
            "['백봉기', '언제', '나오다']\n",
            "['보다', '그대로', '들어맞다', '예측', '카리스마', '없다', '악역']\n",
            "['불알', '나오다', '당황', '영화', '중간', '끝나다', '느낌']\n",
            "['평범하다', '녹다', '평범하다', '일상', '조금', '밋밋하다']\n",
            "['보다', '계속', '보다', '전개도', '느리다', '주인공', '은희', '나오다', '극적', '모습', '짜증', '언제', '끝나다', '대만', '있다', '전개']\n",
            "['사랑', '하다', '싶다', '가슴속', '감정', '헤집다', '영화', '정말', '최고']\n",
            "['많다', '사람', '다큐', '보고', '우리나라', '슬프다', '현대', '사의', '하다', '단면', '대해', '깊이', '생각', '사죄', '바로', '잡기', '위해', '노력', '하다', '하다', '말로', '듣다', '보도', '연맹', '민간인', '학살', '이정', '이건', '명백하다', '살인', '이다', '살인자', '어디', '있다']\n",
            "['예전', '작품', '캐릭터', '에피소드', '재탕', '사골', '우려', '먹듯', '우리', '내용', '가다', '시청률', '아예', '나오다', '이제', '중반', '부작']\n",
            "['김남길', '짜다', '연기력', '초반', '몰입도', '불구', '지루하다', '손예진']\n",
            "['재밌다', '비슷하다', '영화', '보다', '늘다', '재미있다']\n",
            "['노래실력', '뽑다', '맞다', '박시환', '나가다', '진짜', '망신']\n",
            "['일본', '영화', '건가', '유치하다']\n",
            "['이틀', '보다', '재밌다', '물건', '넣다', '조작', '하다', '하다', '안이', '열리다', '안이', '활짝', '열리다', '아무나', '들어가다', '문자', '조작', '하다', '비번', '걸리다', '그렇다', '억지스럽다', '내용', '자체', '좋다']\n",
            "['졸작']\n",
            "['재밋네', '달팽이', '재밌다']\n",
            "['어설프다', '전개', '어이없다', '결말']\n",
            "['부패하다', '로마노프', '왕조', '기리', '뭣같', '영화', '온몸', '항거', '하다', '러시아', '민중', '폭도']\n",
            "['내용', '전개', '무난', '펴다', '자다', '보다']\n",
            "['매우', '실망']\n",
            "['한국영', '흥행', '코드', '갈등', '갈등', '갈등', '화해', '감동', '평점', '남발', '흥행', '뻔하다']\n",
            "['아햏햏', '아햏햏', '아햏햏']\n",
            "['시작', '분만', '나오다', '리플릿', '사진', '보다', '불안하다']\n",
            "['단연', '최고', '하다']\n",
            "['감독', '먹다', '영화', '만들다', '관객', '하다', '모르다', '엉망', '진창', '진창']\n",
            "['이건', '우뢰매']\n",
            "['정말', '쓰레기', '영화', '이다']\n",
            "['진정', '위대하다', '영화', '최고']\n",
            "['별루', '이다']\n",
            "['내일', '기대', '되다']\n",
            "['조미', '막문위', '좋아하다', '가요']\n",
            "['진짜', '골깜', '부라리다', '쓰러지다']\n",
            "['성룡', '영화', '최악']\n",
            "['때리다', '걸스데이', '이혜리', '자다', '되다']\n",
            "['서기', '이쁘다']\n",
            "['완전', '재밌다', '인공', '주귀']\n",
            "['인상', '영화', '이다']\n",
            "['어내스트', '셀레스틴', '완전', '강추', '정말', '재밌다']\n",
            "['재미있다', '영화', '이다']\n",
            "['클라라', '볼라', '화신', '보다', '아니다']\n",
            "['진짜', '보다', '슬프다', '영화']\n",
            "['설정', '재밌다', '새롭다', '에피소드', '메인', '스토리', '차차', '나오다', '재밌다']\n"
          ]
        }
      ],
      "source": [
        "for x in X_train[:100]:\n",
        "    print(preprocessing(x))"
      ]
    },
    {
      "cell_type": "markdown",
      "source": [
        "### 벡터화 \n",
        "1. BoW : CountVectorizer\n",
        "2. TF-IDF : TfidfVectorizer"
      ],
      "metadata": {
        "id": "J-sLhthhzmBy"
      }
    },
    {
      "cell_type": "code",
      "source": [
        "CountVectorizer?"
      ],
      "metadata": {
        "colab": {
          "base_uri": "https://localhost:8080/"
        },
        "id": "KEYQ1Mtv9SXd",
        "outputId": "0b3c44a0-6a4a-4d84-e471-5f793cb4d63d"
      },
      "execution_count": null,
      "outputs": [
        {
          "output_type": "stream",
          "name": "stdout",
          "text": [
            "Object `CountVectorizer` not found.\n"
          ]
        }
      ]
    },
    {
      "cell_type": "code",
      "source": [
        "from sklearn.feature_extraction.text import CountVectorizer, TfidfVectorizer\n",
        "from sklearn.linear_model import LogisticRegression\n",
        "\n",
        "bow = CountVectorizer(tokenizer=preprocessing, min_df=5, max_df=0.5) \n",
        "\n",
        "# X_train_bow = bow.fit(X_train)\n",
        "X_train_bow = bow.fit_transform(X_train)\n",
        "X_test_bow = bow.transform(X_test)"
      ],
      "metadata": {
        "id": "BHfgIIqsCPWF"
      },
      "execution_count": null,
      "outputs": []
    },
    {
      "cell_type": "code",
      "source": [
        "tfidf = TfidfVectorizer(tokenizer=preprocessing, max_features=2000, min_df=5, max_df=0.5) \n",
        "\n",
        "X_train_tfidf = tfidf.fit_transform(X_train)\n",
        "X_test_tfidf = tfidf.transform(X_test)\n",
        "\n",
        "X_train_tfidf.toarray()"
      ],
      "metadata": {
        "colab": {
          "base_uri": "https://localhost:8080/"
        },
        "id": "dE1WiFPUCSLE",
        "outputId": "6ce40cd5-d325-4fdb-df58-a97b916c0e78"
      },
      "execution_count": null,
      "outputs": [
        {
          "output_type": "execute_result",
          "data": {
            "text/plain": [
              "array([[0., 0., 0., ..., 0., 0., 0.],\n",
              "       [0., 0., 0., ..., 0., 0., 0.],\n",
              "       [0., 0., 0., ..., 0., 0., 0.],\n",
              "       ...,\n",
              "       [0., 0., 0., ..., 0., 0., 0.],\n",
              "       [0., 0., 0., ..., 0., 0., 0.],\n",
              "       [0., 0., 0., ..., 0., 0., 0.]])"
            ]
          },
          "metadata": {},
          "execution_count": 28
        }
      ]
    },
    {
      "cell_type": "markdown",
      "metadata": {
        "id": "39f8jyBhsvGs"
      },
      "source": [
        "## 모델 학습 및 검증\n",
        "- 현재 머신러닝 모델링에 대해 배운 것은 없지만,  \n",
        "- 전처리된 데이터를 통해 여러 모델에 학습이 가능하다는 것을 확인하는 정도로 코드를 이해해보자."
      ]
    },
    {
      "cell_type": "code",
      "execution_count": null,
      "metadata": {
        "colab": {
          "base_uri": "https://localhost:8080/"
        },
        "id": "yxjCAlp3I0JM",
        "outputId": "28c4b382-a32c-4f85-b300-8971930c8667"
      },
      "outputs": [
        {
          "output_type": "stream",
          "name": "stdout",
          "text": [
            "Train set score: 0.816\n",
            "Test set score: 0.809\n"
          ]
        },
        {
          "output_type": "stream",
          "name": "stderr",
          "text": [
            "/usr/local/lib/python3.7/dist-packages/sklearn/linear_model/_logistic.py:818: ConvergenceWarning: lbfgs failed to converge (status=1):\n",
            "STOP: TOTAL NO. of ITERATIONS REACHED LIMIT.\n",
            "\n",
            "Increase the number of iterations (max_iter) or scale the data as shown in:\n",
            "    https://scikit-learn.org/stable/modules/preprocessing.html\n",
            "Please also refer to the documentation for alternative solver options:\n",
            "    https://scikit-learn.org/stable/modules/linear_model.html#logistic-regression\n",
            "  extra_warning_msg=_LOGISTIC_SOLVER_CONVERGENCE_MSG,\n"
          ]
        }
      ],
      "source": [
        "# 모델 1 : Logistic Regression 모형\n",
        "from sklearn.linear_model import LogisticRegression\n",
        "\n",
        "log_clf = LogisticRegression()\n",
        "log_clf.fit(X_train_tfidf, y_train)\n",
        "print('Train set score: {:.3f}'.format(log_clf.score(X_train_tfidf, y_train)))\n",
        "print('Test set score: {:.3f}'.format(log_clf.score(X_test_tfidf, y_test)))"
      ]
    },
    {
      "cell_type": "code",
      "execution_count": null,
      "metadata": {
        "colab": {
          "base_uri": "https://localhost:8080/"
        },
        "id": "c2MQ9yOUCPF5",
        "outputId": "bec94e71-0474-46bf-b95c-487ab681165c"
      },
      "outputs": [
        {
          "output_type": "stream",
          "name": "stdout",
          "text": [
            "Train set score: 0.780\n",
            "Test set score: 0.756\n"
          ]
        }
      ],
      "source": [
        "# 모델 2 : 트리 앙상블 모형\n",
        "from sklearn.ensemble import RandomForestClassifier\n",
        "\n",
        "model_rf = RandomForestClassifier(n_estimators = 100, max_depth=30, random_state = 0)\n",
        "model_rf.fit(X_train_tfidf, y_train)\n",
        "print('Train set score: {:.3f}'.format(model_rf.score(X_train_tfidf, y_train)))\n",
        "print('Test set score: {:.3f}'.format(model_rf.score(X_test_tfidf, y_test)))"
      ]
    },
    {
      "cell_type": "code",
      "execution_count": null,
      "metadata": {
        "colab": {
          "base_uri": "https://localhost:8080/"
        },
        "id": "FM2kQJauCPF5",
        "outputId": "eefc7421-daa3-47f3-c3be-79d5245bfe3f"
      },
      "outputs": [
        {
          "output_type": "stream",
          "name": "stdout",
          "text": [
            "Train set score: 0.807\n",
            "Test set score: 0.801\n"
          ]
        }
      ],
      "source": [
        "# 모델 3 : Naive Bayes 분류모형\n",
        "from sklearn.naive_bayes import MultinomialNB\n",
        "\n",
        "NB_clf = MultinomialNB(alpha=0.1)\n",
        "NB_clf.fit(X_train_tfidf, y_train)\n",
        "print('Train set score: {:.3f}'.format(NB_clf.score(X_train_tfidf, y_train)))\n",
        "print('Test set score: {:.3f}'.format(NB_clf.score(X_test_tfidf, y_test)))"
      ]
    },
    {
      "cell_type": "code",
      "execution_count": null,
      "metadata": {
        "colab": {
          "base_uri": "https://localhost:8080/"
        },
        "id": "XrYdauMdCPF2",
        "outputId": "f30ea234-759b-4d0f-9a9c-e15065021713"
      },
      "outputs": [
        {
          "output_type": "stream",
          "name": "stdout",
          "text": [
            "(1, 1, '굳 ㅋ')\n",
            "(0, 0, 'GDNTOPCLASSINTHECLUB')\n",
            "(0, 1, '뭐야 이 평점들은.... 나쁘진 않지만 10점 짜리는 더더욱 아니잖아')\n",
            "(0, 0, '지루하지는 않은데 완전 막장임... 돈주고 보기에는....')\n",
            "(0, 0, '3D만 아니었어도 별 다섯 개 줬을텐데.. 왜 3D로 나와서 제 심기를 불편하게 하죠??')\n",
            "(1, 1, '음악이 주가 된, 최고의 음악영화')\n",
            "(0, 0, '진정한 쓰레기')\n",
            "(0, 0, '마치 미국애니에서 튀어나온듯한 창의력없는 로봇디자인부터가,고개를 젖게한다')\n",
            "(0, 0, '갈수록 개판되가는 중국영화 유치하고 내용없음 폼잡다 끝남 말도안되는 무기에 유치한cg남무 아 그립다 동사서독같은 영화가 이건 3류아류작이다')\n",
            "(1, 1, '이별의 아픔뒤에 찾아오는 새로운 인연의 기쁨 But, 모든 사람이 그렇지는 않네..')\n"
          ]
        }
      ],
      "source": [
        "clf = NB_clf\n",
        "\n",
        "for content in zip(y_test[:10], clf.predict(X_test_tfidf[:10]), X_test[:10]):\n",
        "    print(content)"
      ]
    },
    {
      "cell_type": "code",
      "source": [],
      "metadata": {
        "id": "a-X4OWygd88a"
      },
      "execution_count": null,
      "outputs": []
    }
  ],
  "metadata": {
    "colab": {
      "provenance": [],
      "include_colab_link": true
    },
    "kernelspec": {
      "display_name": "Python 3 (ipykernel)",
      "language": "python",
      "name": "python3"
    },
    "language_info": {
      "codemirror_mode": {
        "name": "ipython",
        "version": 3
      },
      "file_extension": ".py",
      "mimetype": "text/x-python",
      "name": "python",
      "nbconvert_exporter": "python",
      "pygments_lexer": "ipython3",
      "version": "3.8.0"
    },
    "toc": {
      "base_numbering": 1,
      "nav_menu": {},
      "number_sections": true,
      "sideBar": true,
      "skip_h1_title": false,
      "title_cell": "Table of Contents",
      "title_sidebar": "Contents",
      "toc_cell": true,
      "toc_position": {
        "height": "calc(100% - 180px)",
        "left": "10px",
        "top": "150px",
        "width": "165px"
      },
      "toc_section_display": true,
      "toc_window_display": true
    },
    "varInspector": {
      "cols": {
        "lenName": 16,
        "lenType": 16,
        "lenVar": 40
      },
      "kernels_config": {
        "python": {
          "delete_cmd_postfix": "",
          "delete_cmd_prefix": "del ",
          "library": "var_list.py",
          "varRefreshCmd": "print(var_dic_list())"
        },
        "r": {
          "delete_cmd_postfix": ") ",
          "delete_cmd_prefix": "rm(",
          "library": "var_list.r",
          "varRefreshCmd": "cat(var_dic_list()) "
        }
      },
      "types_to_exclude": [
        "module",
        "function",
        "builtin_function_or_method",
        "instance",
        "_Feature"
      ],
      "window_display": false
    }
  },
  "nbformat": 4,
  "nbformat_minor": 0
}